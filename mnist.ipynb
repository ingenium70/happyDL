{
  "nbformat": 4,
  "nbformat_minor": 0,
  "metadata": {
    "colab": {
      "name": "mnist",
      "provenance": [],
      "private_outputs": true,
      "collapsed_sections": [],
      "authorship_tag": "ABX9TyO0fFSoknv67Qp5q5ty1712",
      "include_colab_link": true
    },
    "kernelspec": {
      "name": "python3",
      "display_name": "Python 3"
    },
    "accelerator": "GPU"
  },
  "cells": [
    {
      "cell_type": "markdown",
      "metadata": {
        "id": "view-in-github",
        "colab_type": "text"
      },
      "source": [
        "<a href=\"https://colab.research.google.com/github/ingenium70/happyDL/blob/master/mnist.ipynb\" target=\"_parent\"><img src=\"https://colab.research.google.com/assets/colab-badge.svg\" alt=\"Open In Colab\"/></a>"
      ]
    },
    {
      "cell_type": "code",
      "metadata": {
        "id": "Luf29nUa9ax-",
        "colab_type": "code",
        "colab": {}
      },
      "source": [
        "!pip install -q torch torchvision\n",
        "import torch\n",
        "print(torch.__version__)"
      ],
      "execution_count": 0,
      "outputs": []
    },
    {
      "cell_type": "markdown",
      "metadata": {
        "id": "QawIqKC7CkfV",
        "colab_type": "text"
      },
      "source": [
        "1. Data Preparation"
      ]
    },
    {
      "cell_type": "code",
      "metadata": {
        "id": "ZmRsIx6h-qlU",
        "colab_type": "code",
        "colab": {}
      },
      "source": [
        "import torch\n",
        "from torchvision import datasets, transforms\n",
        "import torch.nn as nn\n",
        "\n",
        "batch_size = 128\n",
        "train_dataset = datasets.MNIST('./data', train=True, download=True,\n",
        "                               transform=transforms.Compose([\n",
        "                                    transforms.ToTensor(),\n",
        "                                    transforms.Normalize((0.1307,), (0.3081,))\n",
        "                                ]))\n",
        "val_dataset = datasets.MNIST('./data', train=True, download=True,\n",
        "                               transform=transforms.Compose([\n",
        "                                    transforms.ToTensor(),\n",
        "                                    transforms.Normalize((0.1307,), (0.3081,))\n",
        "                                ]))\n",
        "test_dataset = datasets.MNIST('./data', train=False, download=True,\n",
        "                               transform=transforms.Compose([\n",
        "                                    transforms.ToTensor(),\n",
        "                                    transforms.Normalize((0.1307,), (0.3081,))\n",
        "                                ]))\n",
        "train_dataset, val_dataset = torch.utils.data.random_split(train_dataset, [50000, 10000])\n",
        "print(len(train_dataset), len(val_dataset), len(test_dataset))\n",
        "\n",
        "train_loader = torch.utils.data.DataLoader(train_dataset, batch_size = 128, shuffle=True)\n",
        "val_loader = torch.utils.data.DataLoader(val_dataset, batch_size = 128, shuffle=False)\n",
        "test_loader = torch.utils.data.DataLoader(test_dataset, batch_size = 128, shuffle=False)\n"
      ],
      "execution_count": 0,
      "outputs": []
    },
    {
      "cell_type": "markdown",
      "metadata": {
        "id": "rFHAmDSSCqq0",
        "colab_type": "text"
      },
      "source": [
        "2. Inspecting Dataset"
      ]
    },
    {
      "cell_type": "code",
      "metadata": {
        "id": "3CSLPkTRCuml",
        "colab_type": "code",
        "colab": {}
      },
      "source": [
        "examples = enumerate(train_loader)\n",
        "batch_idx, (example_data, example_targets) = next(examples)\n",
        "\n",
        "import matplotlib.pyplot as plt\n",
        "\n",
        "fig = plt.figure(figsize=(15, 9))\n",
        "for i in range(6):\n",
        "    plt.subplot(2,3,i+1)\n",
        "    plt.tight_layout()\n",
        "    plt.imshow(example_data[i][0], cmap='gray', interpolation='none')\n",
        "    plt.title('Ground Truth: {}'.format(example_targets[i]))\n",
        "plt.show()"
      ],
      "execution_count": 0,
      "outputs": []
    },
    {
      "cell_type": "markdown",
      "metadata": {
        "id": "DttGDMaQLDZ-",
        "colab_type": "text"
      },
      "source": [
        "2. Model Architecture"
      ]
    },
    {
      "cell_type": "code",
      "metadata": {
        "id": "h5aUTTPxLCyA",
        "colab_type": "code",
        "colab": {}
      },
      "source": [
        "class LinearModel(nn.Module):\n",
        "    def __init__(self): \n",
        "        super(LinearModel, self).__init__()\n",
        "        self.linear = nn.Linear(in_features=784, out_features=10, bias=True)\n",
        "    \n",
        "    def forward(self, x):\n",
        "        x = self.linear(x)\n",
        "        return x\n",
        "\n",
        "class MLPModel(nn.Module):\n",
        "    def __init__(self, in_dim, out_dim, hid_dim, n_layer):\n",
        "        super(MLPModel, self).__init__()\n",
        "\n",
        "        self.in_dim = in_dim\n",
        "        self.out_dim = out_dim\n",
        "        self.hid_dim = hid_dim\n",
        "        self.n_layer = n_layer\n",
        "\n",
        "        self.fc = nn.Linear(self.in_dim, self.hid_dim)\n",
        "        self.linears = nn.ModuleList()\n",
        "\n",
        "        for i in range(self.n_layer-1):\n",
        "            self.linears.append(nn.Linear(self.hid_dim, self.hid_dim))\n",
        "        \n",
        "        self.fc2 = nn.Linear(self.hid_dim, self.out_dim)\n",
        "        \n",
        "        self.act = nn.ReLU()\n",
        "\n",
        "    def forward(self, x):\n",
        "        x = self.act(self.fc(x))\n",
        "\n",
        "        for fc in self.linears:\n",
        "            x = self.act(fc(x))\n",
        "        x = self.fc2(x)\n",
        "        return x"
      ],
      "execution_count": 0,
      "outputs": []
    },
    {
      "cell_type": "markdown",
      "metadata": {
        "id": "Gt8_4UmW0eat",
        "colab_type": "text"
      },
      "source": [
        "3. Cost Function Define"
      ]
    },
    {
      "cell_type": "code",
      "metadata": {
        "id": "nBdrA-mM00TD",
        "colab_type": "code",
        "colab": {}
      },
      "source": [
        "cls_loss = nn.CrossEntropyLoss()"
      ],
      "execution_count": 0,
      "outputs": []
    },
    {
      "cell_type": "markdown",
      "metadata": {
        "id": "gqOVClT508zr",
        "colab_type": "text"
      },
      "source": [
        "4. Train & Evaluation"
      ]
    },
    {
      "cell_type": "code",
      "metadata": {
        "id": "ZW-3Y7ib1HeJ",
        "colab_type": "code",
        "colab": {}
      },
      "source": [
        "import torch.optim as optim\n",
        "from sklearn.metrics import accuracy_score\n",
        "import time\n",
        "\n",
        "model = MLPModel(784, 10, 300, 3)\n",
        "device = 'cuda:0' if torch.cuda.is_available() else 'cpu'\n",
        "model.to(device)\n",
        "print('Number of {} parameters'.format(sum(p.numel() for p in model.parameters()\n",
        " if p.requires_grad)))\n",
        "\n",
        "lr = 0.0005\n",
        "optimizer = optim.SGD(model.parameters(), lr = lr)\n",
        "\n",
        "list_epoch = [] \n",
        "list_train_loss = []\n",
        "list_val_loss = []\n",
        "list_acc = []\n",
        "list_acc_epoch = []\n",
        "\n",
        "epoch = 30\n",
        "\n",
        "for i in range(epoch):\n",
        "    ts = time.time()\n",
        "    \n",
        "    # ====== Train ====== #\n",
        "    train_loss = 0\n",
        "    model.train() \n",
        "    optimizer.zero_grad() \n",
        "    \n",
        "    for input_X, true_y in train_loader:\n",
        "        \n",
        "        input_X = input_X.squeeze()\n",
        "        input_X = input_X.view(-1, 784)\n",
        "        input_X = input_X.to(device)\n",
        "        true_y = true_y.to(device)\n",
        "        pred_y = model(input_X)\n",
        "\n",
        "        loss = cls_loss(pred_y.squeeze(), true_y)\n",
        "        loss.backward() \n",
        "        optimizer.step() \n",
        "        train_loss += loss.item()\n",
        "    train_loss = train_loss / len(train_loader)\n",
        "    list_train_loss.append(train_loss)\n",
        "    list_epoch.append(i)\n",
        "    \n",
        "    \n",
        "    # ====== Validation ====== #\n",
        "    val_loss = 0\n",
        "    model.eval()\n",
        "    optimizer.zero_grad()\n",
        "    \n",
        "    for input_X, true_y in val_loader:\n",
        "        input_X = input_X.squeeze()\n",
        "        input_X = input_X.view(-1, 784)\n",
        "        input_X = input_X.to(device)\n",
        "        true_y = true_y.to(device)\n",
        "        pred_y = model(input_X)\n",
        "\n",
        "        loss = cls_loss(pred_y.squeeze(), true_y)\n",
        "        val_loss += loss.item()\n",
        "    val_loss = val_loss / len(val_loader)\n",
        "    list_val_loss.append(val_loss)\n",
        "\n",
        "     # ====== Evaluation ======= #\n",
        "    correct = 0\n",
        "    model.eval()\n",
        "    optimizer.zero_grad()\n",
        "\n",
        "    for input_X, true_y in test_loader:\n",
        "        input_X = input_X.squeeze()\n",
        "        input_X = input_X.view(-1, 784)\n",
        "        input_X = input_X.to(device)\n",
        "        true_y = true_y.to(device)\n",
        "        pred_y = model(input_X).max(1, keepdim=True)[1].squeeze()\n",
        "        correct += pred_y.eq(true_y).sum()\n",
        "\n",
        "    acc = correct.item() / len(test_loader.dataset)\n",
        "    list_acc.append(acc)\n",
        "    list_acc_epoch.append(i)\n",
        "\n",
        "    te = time.time()\n",
        "       \n",
        "    print('Epoch: {}, Train Loss: {}, Val Loss: {}, Test Acc: {}%, {:3.1f}'.format(i, train_loss, val_loss, acc*100, te-ts))"
      ],
      "execution_count": 0,
      "outputs": []
    },
    {
      "cell_type": "markdown",
      "metadata": {
        "id": "3GgEmwclFPjk",
        "colab_type": "text"
      },
      "source": [
        "5. Report Experiment"
      ]
    },
    {
      "cell_type": "code",
      "metadata": {
        "id": "UBU8YMJwFTS2",
        "colab_type": "code",
        "colab": {}
      },
      "source": [
        "fig = plt.figure(figsize=(15,5))\n",
        "\n",
        "# ====== Loss Fluctuation ====== #\n",
        "ax1 = fig.add_subplot(1, 2, 1)\n",
        "ax1.plot(list_epoch, list_train_loss, label='train_loss')\n",
        "ax1.plot(list_epoch, list_val_loss, '--', label='val_loss')\n",
        "ax1.set_xlabel('epoch')\n",
        "ax1.set_ylabel('loss')\n",
        "ax1.grid()\n",
        "ax1.legend()\n",
        "ax1.set_title('epoch vs loss')\n",
        "\n",
        "# ====== Metric Fluctuation ====== #\n",
        "ax2 = fig.add_subplot(1, 2, 2)\n",
        "ax2.plot(list_acc_epoch, list_acc, marker='x', label='Accuracy metric')\n",
        "ax2.set_xlabel('epoch')\n",
        "ax2.set_ylabel('Acc')\n",
        "ax2.grid()\n",
        "ax2.legend()\n",
        "ax2.set_title('epoch vs Accuracy')\n",
        "\n",
        "plt.show()"
      ],
      "execution_count": 0,
      "outputs": []
    }
  ]
}