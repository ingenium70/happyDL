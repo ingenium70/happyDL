{
  "nbformat": 4,
  "nbformat_minor": 0,
  "metadata": {
    "colab": {
      "name": "classification.ipynb",
      "provenance": [],
      "private_outputs": true,
      "collapsed_sections": [],
      "authorship_tag": "ABX9TyPhwDiH99uO0q4QOA2by4VW",
      "include_colab_link": true
    },
    "kernelspec": {
      "name": "python3",
      "display_name": "Python 3"
    }
  },
  "cells": [
    {
      "cell_type": "markdown",
      "metadata": {
        "id": "view-in-github",
        "colab_type": "text"
      },
      "source": [
        "<a href=\"https://colab.research.google.com/github/ingenium70/happyDL/blob/master/classification.ipynb\" target=\"_parent\"><img src=\"https://colab.research.google.com/assets/colab-badge.svg\" alt=\"Open In Colab\"/></a>"
      ]
    },
    {
      "cell_type": "markdown",
      "metadata": {
        "id": "1kmniK-J9c7O",
        "colab_type": "text"
      },
      "source": [
        "Install Pytorch"
      ]
    },
    {
      "cell_type": "code",
      "metadata": {
        "id": "ZL8QwOeb8ICW",
        "colab_type": "code",
        "colab": {}
      },
      "source": [
        "!pip install -q torch torchvision\n",
        "import torch\n",
        "print(torch.__version__)"
      ],
      "execution_count": 0,
      "outputs": []
    },
    {
      "cell_type": "markdown",
      "metadata": {
        "id": "blEOZdr19h6c",
        "colab_type": "text"
      },
      "source": [
        "Generate input data"
      ]
    },
    {
      "cell_type": "code",
      "metadata": {
        "id": "DcVSlZCa4avJ",
        "colab_type": "code",
        "colab": {}
      },
      "source": [
        "import numpy as np\n",
        "import matplotlib.pyplot as plt\n",
        "\n",
        "r = np.random.rand(10000)*3\n",
        "theta = np.random.rand(10000)*2*np.pi\n",
        "y = r.astype(int)\n",
        "r = r*(np.cos(theta) + 1)\n",
        "x1 = r*np.cos(theta)\n",
        "x2 = r*np.sin(theta)\n",
        "X = np.array([x1, x2]).T\n",
        "\n",
        "train_X, train_y = X[:8000, :], y[:8000]\n",
        "val_X, val_y = X[8000:9000, :], y[8000:9000]\n",
        "test_X, test_y = X[9000:, :], y[9000:]\n",
        "\n",
        "fig = plt.figure(figsize=(15, 5))\n",
        "ax1 = fig.add_subplot(1,3,1)\n",
        "ax1.scatter(train_X[:, 0], train_X[:, 1], c=train_y, s=0.7)\n",
        "ax1.set_xlabel('x1')\n",
        "ax1.set_ylabel('x2')\n",
        "ax1.set_title('Train Set Distribution')\n",
        "\n",
        "ax2 = fig.add_subplot(1,3,2)\n",
        "ax2.scatter(val_X[:, 0], val_X[:, 1], c=val_y)\n",
        "ax2.set_xlabel('x1')\n",
        "ax2.set_ylabel('x2')\n",
        "ax2.set_title('Validation Set Distribution')\n",
        "\n",
        "ax3 = fig.add_subplot(1,3,3)\n",
        "ax3.scatter(test_X[:, 0], test_X[:, 1], c=test_y)\n",
        "ax3.set_xlabel('x1')\n",
        "ax3.set_ylabel('x2')\n",
        "ax3.set_title('Test Set Distribution')"
      ],
      "execution_count": 0,
      "outputs": []
    },
    {
      "cell_type": "markdown",
      "metadata": {
        "id": "om9etORQ9o-4",
        "colab_type": "text"
      },
      "source": [
        "Define Model"
      ]
    },
    {
      "cell_type": "code",
      "metadata": {
        "id": "OcEOaZcS9sdR",
        "colab_type": "code",
        "colab": {}
      },
      "source": [
        "import torch\n",
        "import torch.nn as nn\n",
        "\n",
        "class LinearModel(nn.Module):\n",
        "    def __init__(self):\n",
        "        super(LinearModel, self).__init__()\n",
        "        self.linear = nn.Linear(in_features=2, out_features=3, bias = True)\n",
        "        self.softmax = nn.Softmax()\n",
        "\n",
        "    def forward(self, x):\n",
        "        x = self.linear(x)\n",
        "        return x\n",
        "\n",
        "class MLPModel(nn.Module):\n",
        "    def __init__(self):\n",
        "        super(MLPModel, self).__init__()\n",
        "        self.linear1 = nn.Linear(in_features=2, out_features=200)\n",
        "        self.linear2 = nn.Linear(in_features=200, out_features=3)\n",
        "        self.relu = nn.ReLU()\n",
        "        self.softmax = nn.Softmax()\n",
        "\n",
        "    def forward(self, x):\n",
        "        x = self.linear1(x)\n",
        "        x = self.relu(x)\n",
        "        x = self.linear2(x)\n",
        "        return x\n",
        "\n"
      ],
      "execution_count": 0,
      "outputs": []
    },
    {
      "cell_type": "markdown",
      "metadata": {
        "id": "5t_yTyGFALtK",
        "colab_type": "text"
      },
      "source": [
        "Define Costfunction"
      ]
    },
    {
      "cell_type": "code",
      "metadata": {
        "id": "7TULgmzPAPAB",
        "colab_type": "code",
        "colab": {}
      },
      "source": [
        "cls_loss = nn.CrossEntropyLoss()\n",
        "\n",
        "test_pred_y = torch.Tensor([[2,0.1],[0,1]])\n",
        "test_true_y1 = torch.Tensor([1,0]).long()\n",
        "test_true_y2 = torch.Tensor([0,1]).long()\n",
        "\n",
        "print(cls_loss(test_pred_y, test_true_y1))\n",
        "print(cls_loss(test_pred_y, test_true_y2))"
      ],
      "execution_count": 0,
      "outputs": []
    },
    {
      "cell_type": "markdown",
      "metadata": {
        "id": "omnAAA9jB62R",
        "colab_type": "text"
      },
      "source": [
        "Train & Evaluation"
      ]
    },
    {
      "cell_type": "code",
      "metadata": {
        "id": "kbzD0wqdB54x",
        "colab_type": "code",
        "colab": {}
      },
      "source": [
        "import torch.optim as optim\n",
        "from sklearn.metrics import accuracy_score\n",
        "\n",
        "model = LinearModel()\n",
        "#model = MLPModel()\n",
        "print('{} parameters'.format(sum(p.numel() for p in model.parameters() if p.requires_grad)))\n",
        "\n",
        "lr = 0.005\n",
        "optimizer = optim.SGD(model.parameters(), lr = lr)\n",
        "\n",
        "list_epoch = []\n",
        "list_train_loss = []\n",
        "list_val_loss = []\n",
        "list_acc = []\n",
        "list_acc_epoch = []\n",
        "\n",
        "epoch = 4000\n",
        "\n",
        "for i in range(epoch):\n",
        "    model.train()\n",
        "    optimizer.zero_grad()\n",
        "    input_x = torch.Tensor(train_X)\n",
        "    true_y = torch.Tensor(train_y).long()\n",
        "    pred_y = model(input_x)\n",
        "\n",
        "    loss = cls_loss(pred_y.squeeze(), true_y)\n",
        "    loss.backward()\n",
        "    optimizer.step()\n",
        "    list_epoch.append(i)\n",
        "    list_train_loss.append(loss.detach().numpy())\n",
        "\n",
        "    model.eval()\n",
        "    optimizer.zero_grad()\n",
        "    input_x = torch.Tensor(val_X)\n",
        "    true_y = torch.Tensor(val_y).long()\n",
        "    pred_y = model(input_x)\n",
        "    loss = cls_loss(pred_y.squeeze(), true_y)\n",
        "    list_val_loss.append(loss.detach().numpy())\n",
        "\n",
        "    if i % 200 == 0:\n",
        "        model.eval()\n",
        "        optimizer.zero_grad()\n",
        "        input_x = torch.Tensor(test_X)\n",
        "        true_y = torch.Tensor(test_y)\n",
        "        pred_y = model(input_x).detach().max(dim=1)[1].numpy()\n",
        "        acc = accuracy_score(true_y, pred_y)\n",
        "\n",
        "        list_acc.append(acc)\n",
        "        list_acc_epoch.append(i)\n",
        "\n",
        "        fig = plt.figure(figsize=(15,5))\n",
        "\n",
        "        ax1 = fig.add_subplot(1,3,1)\n",
        "        ax1.scatter(test_X[:, 0], test_X[:, 1], c=test_y)\n",
        "        ax1.set_xlabel('x1')\n",
        "        ax1.set_ylabel('x2')\n",
        "        ax1.set_title('True test y')\n",
        "\n",
        "        ax2 = fig.add_subplot(1,3,2)\n",
        "        ax2.scatter(test_X[:, 0], test_X[:, 1], c=pred_y)\n",
        "        ax2.set_xlabel('x1')\n",
        "        ax2.set_ylabel('x2')\n",
        "        ax2.set_title('Predicted test y')\n",
        "\n",
        "        input_x = torch.Tensor(train_X)\n",
        "        pred_y = model(input_x).detach().max(dim=1)[1].numpy()\n",
        "\n",
        "        ax3 = fig.add_subplot(1,3,3)\n",
        "        ax3.scatter(train_X[:, 0], train_X[:, 1], c=pred_y)\n",
        "        ax3.set_xlabel('x1')\n",
        "        ax3.set_ylabel('x2')\n",
        "        ax3.set_title('Predicted test y')\n",
        "\n",
        "        plt.show()\n",
        "        print('Epoch: ', i, 'Accuracy: ', acc*100, '%')"
      ],
      "execution_count": 0,
      "outputs": []
    },
    {
      "cell_type": "code",
      "metadata": {
        "id": "ZJ3HrFlorbbH",
        "colab_type": "code",
        "colab": {}
      },
      "source": [
        "fig = plt.figure(figsize=(15, 5))\n",
        "\n",
        "ax1 = fig.add_subplot(1,2,1)\n",
        "ax1.plot(list_epoch, list_train_loss, label='train_loss')\n",
        "ax1.plot(list_epoch, list_val_loss, '--', label='val_loss')\n",
        "ax1.set_xlabel('epoch')\n",
        "ax1.set_ylabel('loss')\n",
        "ax1.grid()\n",
        "ax1.legend()\n",
        "ax1.set_title('epoch vs loss')\n",
        "\n",
        "ax2 = fig.add_subplot(1,2,2)\n",
        "ax2.plot(list_acc_epoch, list_acc, marker='x', label='Accuracy metric')\n",
        "ax2.set_xlabel('epoch')\n",
        "ax2.set_ylabel('Acc')\n",
        "ax2.grid()\n",
        "ax2.legend()\n",
        "ax1.set_title('epoch vs Accuracy')\n",
        "\n",
        "plt.show()"
      ],
      "execution_count": 0,
      "outputs": []
    }
  ]
}